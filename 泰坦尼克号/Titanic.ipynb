{
 "cells": [
  {
   "cell_type": "markdown",
   "metadata": {},
   "source": [
    "# 泰坦尼克号生存者预测"
   ]
  },
  {
   "cell_type": "markdown",
   "metadata": {},
   "source": [
    "## 目录\n",
    "1. [泰坦尼克号乘客数据](#1)<br> \n",
    "2. [数据探索性分析](#2)<br> \n",
    "3. [数据处理](#3)<br> \n",
    "4. [训练模型](#4)<br> \n",
    "5. [模型提升](#5)<br> \n"
   ]
  },
  {
   "cell_type": "markdown",
   "metadata": {},
   "source": [
    "## 1. 泰坦尼克号乘客数据\n",
    "<a id=1></a>\n",
    "\n",
    "本案例来源于Kaggle网站上的一个竞赛项目，通过一些乘客的数据来预测哪些乘客会从泰坦尼克号灾难事件中幸存下来。下面是数据集的特征：\n",
    "\n",
    "| 特征 | 含义 |\n",
    "|--|--|\n",
    "|Survival|\t是否为生存者|\t\n",
    "|Pclass\t|客舱的等级|\t\n",
    "|Sex|\t性别|\t\n",
    "|Age|\t年龄|\t\n",
    "|Sibsp|\t同船的兄弟姐妹或配偶的人数|\t\n",
    "|Parch|\t同船的父母或子女的人数|\t\n",
    "|Ticket|\t票号|\t\n",
    "|Fare|\t票价|\t\n",
    "|Cabin|\t客舱号\t|\n",
    "|Embarked|\t出发港|"
   ]
  },
  {
   "cell_type": "code",
   "execution_count": 1,
   "metadata": {},
   "outputs": [],
   "source": [
    "import pandas as pd\n",
    "import numpy as np\n",
    "import matplotlib.pyplot as plt\n",
    "import seaborn as sns\n",
    "\n",
    "%matplotlib inline\n",
    "\n",
    "#使用随机森林训练\n",
    "from sklearn.ensemble import RandomForestRegressor\n",
    "from sklearn.ensemble import RandomForestClassifier\n",
    "from sklearn.model_selection import cross_val_score\n",
    "from sklearn.preprocessing import LabelEncoder"
   ]
  },
  {
   "cell_type": "code",
   "execution_count": 2,
   "metadata": {},
   "outputs": [],
   "source": [
    "train = pd.read_csv('train.csv')\n",
    "test = pd.read_csv('test.csv')"
   ]
  },
  {
   "cell_type": "code",
   "execution_count": 3,
   "metadata": {},
   "outputs": [
    {
     "name": "stdout",
     "output_type": "stream",
     "text": [
      "<class 'pandas.core.frame.DataFrame'>\n",
      "RangeIndex: 891 entries, 0 to 890\n",
      "Data columns (total 12 columns):\n",
      " #   Column       Non-Null Count  Dtype  \n",
      "---  ------       --------------  -----  \n",
      " 0   PassengerId  891 non-null    int64  \n",
      " 1   Survived     891 non-null    int64  \n",
      " 2   Pclass       891 non-null    int64  \n",
      " 3   Name         891 non-null    object \n",
      " 4   Sex          891 non-null    object \n",
      " 5   Age          714 non-null    float64\n",
      " 6   SibSp        891 non-null    int64  \n",
      " 7   Parch        891 non-null    int64  \n",
      " 8   Ticket       891 non-null    object \n",
      " 9   Fare         891 non-null    float64\n",
      " 10  Cabin        204 non-null    object \n",
      " 11  Embarked     889 non-null    object \n",
      "dtypes: float64(2), int64(5), object(5)\n",
      "memory usage: 83.7+ KB\n"
     ]
    }
   ],
   "source": [
    "train.info()"
   ]
  },
  {
   "cell_type": "code",
   "execution_count": 4,
   "metadata": {},
   "outputs": [
    {
     "name": "stdout",
     "output_type": "stream",
     "text": [
      "<class 'pandas.core.frame.DataFrame'>\n",
      "RangeIndex: 418 entries, 0 to 417\n",
      "Data columns (total 11 columns):\n",
      " #   Column       Non-Null Count  Dtype  \n",
      "---  ------       --------------  -----  \n",
      " 0   PassengerId  418 non-null    int64  \n",
      " 1   Pclass       418 non-null    int64  \n",
      " 2   Name         418 non-null    object \n",
      " 3   Sex          418 non-null    object \n",
      " 4   Age          332 non-null    float64\n",
      " 5   SibSp        418 non-null    int64  \n",
      " 6   Parch        418 non-null    int64  \n",
      " 7   Ticket       418 non-null    object \n",
      " 8   Fare         417 non-null    float64\n",
      " 9   Cabin        91 non-null     object \n",
      " 10  Embarked     418 non-null    object \n",
      "dtypes: float64(2), int64(4), object(5)\n",
      "memory usage: 36.0+ KB\n"
     ]
    }
   ],
   "source": [
    "test.info()"
   ]
  },
  {
   "cell_type": "markdown",
   "metadata": {},
   "source": [
    "初步观察，存在缺失值的特征有`Age`，`Fare`，`Cabin`，`Embarked`，而且名义特征以及离散的数值特征较多，适合使用决策树类型的模型。"
   ]
  },
  {
   "cell_type": "code",
   "execution_count": 5,
   "metadata": {},
   "outputs": [
    {
     "data": {
      "text/plain": [
       "0.3838383838383838"
      ]
     },
     "execution_count": 5,
     "metadata": {},
     "output_type": "execute_result"
    }
   ],
   "source": [
    "train.Survived.mean()"
   ]
  },
  {
   "cell_type": "markdown",
   "metadata": {},
   "source": [
    "训练数据集中泰坦尼克号乘客的幸存率约为38%，下面以这个标准，分析对生存率有影响的特征，以便后期数据的处理与模型的训练。"
   ]
  },
  {
   "cell_type": "markdown",
   "metadata": {},
   "source": [
    "\n",
    "## 2. 数据探索性分析\n",
    "<a id=2></a>\n",
    "\n",
    "### 性别"
   ]
  },
  {
   "cell_type": "code",
   "execution_count": 6,
   "metadata": {
    "scrolled": true
   },
   "outputs": [
    {
     "data": {
      "text/plain": [
       "<matplotlib.axes._subplots.AxesSubplot at 0x22e4d59b988>"
      ]
     },
     "execution_count": 6,
     "metadata": {},
     "output_type": "execute_result"
    },
    {
     "data": {
      "image/png": "[encoded data removed]",
      "text/plain": [
       "<Figure size 432x288 with 1 Axes>"
      ]
     },
     "metadata": {
      "needs_background": "light"
     },
     "output_type": "display_data"
    }
   ],
   "source": [
    "sns.barplot(x=\"Sex\", y=\"Survived\", data=train)"
   ]
  },
  {
   "cell_type": "markdown",
   "metadata": {},
   "source": [
    "乘客的性别是很大的影响因素，女性乘客生存率会高一些。\n",
    "\n",
    "### 客舱等级"
   ]
  },
  {
   "cell_type": "code",
   "execution_count": 7,
   "metadata": {},
   "outputs": [
    {
     "data": {
      "text/plain": [
       "<matplotlib.axes._subplots.AxesSubplot at 0x22e4dd0ae08>"
      ]
     },
     "execution_count": 7,
     "metadata": {},
     "output_type": "execute_result"
    },
    {
     "data": {
      "image/png": "[encoded data removed]",
      "text/plain": [
       "<Figure size 432x288 with 1 Axes>"
      ]
     },
     "metadata": {
      "needs_background": "light"
     },
     "output_type": "display_data"
    }
   ],
   "source": [
    "sns.barplot(x=\"Pclass\", y=\"Survived\", data=train)"
   ]
  },
  {
   "cell_type": "markdown",
   "metadata": {},
   "source": [
    "1等客舱在最上层甲板上，更容易及早获取到危险信号，逃生也方便许多，生存率自然高一些。\n",
    "\n",
    "### 年龄"
   ]
  },
  {
   "cell_type": "code",
   "execution_count": 8,
   "metadata": {},
   "outputs": [
    {
     "data": {
      "text/plain": [
       "Text(12.359751157407416, 0.5, 'density')"
      ]
     },
     "execution_count": 8,
     "metadata": {},
     "output_type": "execute_result"
    },
    {
     "data": {
      "image/png": "[encoded data removed]",
      "text/plain": [
       "<Figure size 483.875x216 with 1 Axes>"
      ]
     },
     "metadata": {
      "needs_background": "light"
     },
     "output_type": "display_data"
    }
   ],
   "source": [
    "facet1 = sns.FacetGrid(train, hue=\"Survived\",aspect=2)\n",
    "facet1.map(sns.kdeplot,'Age',shade= True)\n",
    "facet1.set(xlim=(0, train['Age'].max()))\n",
    "facet1.add_legend()\n",
    "plt.xlabel('Age') \n",
    "plt.ylabel('density') "
   ]
  },
  {
   "cell_type": "markdown",
   "metadata": {},
   "source": [
    "可以看出年龄小的乘客生存率更大一些，因为当时船长下令，让妇女和儿童优先登上救生艇撤离。\n",
    "\n",
    "`Age`特征有很多缺失值，下面考虑通过合适的特征来填补缺失值。"
   ]
  },
  {
   "cell_type": "code",
   "execution_count": 9,
   "metadata": {},
   "outputs": [
    {
     "data": {
      "text/plain": [
       "Survived   -0.077221\n",
       "Pclass     -0.369226\n",
       "Age         1.000000\n",
       "SibSp      -0.308247\n",
       "Parch      -0.189119\n",
       "Fare        0.096067\n",
       "Name: Age, dtype: float64"
      ]
     },
     "execution_count": 9,
     "metadata": {},
     "output_type": "execute_result"
    }
   ],
   "source": [
    "train.drop('PassengerId',axis=1).corr().Age"
   ]
  },
  {
   "cell_type": "markdown",
   "metadata": {},
   "source": [
    "由于很多特征只有很少几个离散的取值，所以很容易不满足线性关系，因此`Pclass`，`SibSp`，`Parch`是比较相关的特征了，通过经验分析和数据可视化也可以看出，通常仓位等级为1的乘客比较有金钱和地位，年龄偏大，而等级为3的乘客则正好相反；兄弟姐妹比较多的乘客年龄偏小，没有父母和子女的乘客几乎肯定是儿童，而`Parch`大于2的的乘客基本上确定为成年人等等。下面通过随机森林预测年龄："
   ]
  },
  {
   "cell_type": "code",
   "execution_count": 4,
   "metadata": {},
   "outputs": [
    {
     "data": {
      "text/plain": [
       "Text(11.594234664351859, 0.5, 'density')"
      ]
     },
     "execution_count": 4,
     "metadata": {},
     "output_type": "execute_result"
    },
    {
     "data": {
      "image/png": "[encoded data removed]",
      "text/plain": [
       "<Figure size 483.875x216 with 1 Axes>"
      ]
     },
     "metadata": {
      "needs_background": "light"
     },
     "output_type": "display_data"
    }
   ],
   "source": [
    "df= train.copy()\n",
    "age_data = df[['Age', 'Pclass','SibSp','Parch']]#选取Pclass SibSp和Parch特征\n",
    "#将用未缺失的值进行训练，来预测缺失的值\n",
    "known_age = age_data[age_data.Age.notnull()].values\n",
    "missing_age = age_data[age_data.Age.isnull()].values\n",
    "y = known_age[:, 0]\n",
    "X = known_age[:, 1:]\n",
    "rfr = RandomForestRegressor(random_state=0, n_estimators=100)\n",
    "rfr.fit(X, y)\n",
    "pred = rfr.predict(missing_age[:, 1:])\n",
    "df.loc[(df.Age.isnull()), 'Age' ] = pred\n",
    "#再画出填充缺失值后的年龄分布图\n",
    "facet2 = sns.FacetGrid(df, hue=\"Survived\",aspect=2)\n",
    "facet2.map(sns.kdeplot,'Age',shade= True)\n",
    "facet2.set(xlim=(0, df['Age'].max()))\n",
    "facet2.add_legend()\n",
    "plt.xlabel('Age') \n",
    "plt.ylabel('density') "
   ]
  },
  {
   "cell_type": "markdown",
   "metadata": {},
   "source": [
    "这个结果相对来说开始可以接受的，并没有过于改变生存下来的乘客与未生存下来的乘客的年龄的相对分布，尤其交点处基本没变。\n",
    "\n",
    "### 票价"
   ]
  },
  {
   "cell_type": "code",
   "execution_count": 11,
   "metadata": {
    "scrolled": true
   },
   "outputs": [
    {
     "data": {
      "text/plain": [
       "Text(11.594234664351859, 0.5, 'density')"
      ]
     },
     "execution_count": 11,
     "metadata": {},
     "output_type": "execute_result"
    },
    {
     "data": {
      "image/png": "[encoded data removed]",
      "text/plain": [
       "<Figure size 483.875x216 with 1 Axes>"
      ]
     },
     "metadata": {
      "needs_background": "light"
     },
     "output_type": "display_data"
    }
   ],
   "source": [
    "facet3 = sns.FacetGrid(train, hue=\"Survived\",aspect=2)\n",
    "facet3.map(sns.kdeplot,'Fare',shade= True)\n",
    "facet3.set(xlim=(0, 150))\n",
    "facet3.add_legend()\n",
    "plt.xlabel('Fare') \n",
    "plt.ylabel('density')"
   ]
  },
  {
   "cell_type": "markdown",
   "metadata": {},
   "source": [
    "金钱的力量还是很现实的。\n",
    "\n",
    "关于`Fare`缺失值："
   ]
  },
  {
   "cell_type": "code",
   "execution_count": 12,
   "metadata": {},
   "outputs": [
    {
     "data": {
      "text/html": [
       "<div>\n",
       "<style scoped>\n",
       "    .dataframe tbody tr th:only-of-type {\n",
       "        vertical-align: middle;\n",
       "    }\n",
       "\n",
       "    .dataframe tbody tr th {\n",
       "        vertical-align: top;\n",
       "    }\n",
       "\n",
       "    .dataframe thead th {\n",
       "        text-align: right;\n",
       "    }\n",
       "</style>\n",
       "<table border=\"1\" class=\"dataframe\">\n",
       "  <thead>\n",
       "    <tr style=\"text-align: right;\">\n",
       "      <th></th>\n",
       "      <th>PassengerId</th>\n",
       "      <th>Pclass</th>\n",
       "      <th>Name</th>\n",
       "      <th>Sex</th>\n",
       "      <th>Age</th>\n",
       "      <th>SibSp</th>\n",
       "      <th>Parch</th>\n",
       "      <th>Ticket</th>\n",
       "      <th>Fare</th>\n",
       "      <th>Cabin</th>\n",
       "      <th>Embarked</th>\n",
       "    </tr>\n",
       "  </thead>\n",
       "  <tbody>\n",
       "    <tr>\n",
       "      <th>152</th>\n",
       "      <td>1044</td>\n",
       "      <td>3</td>\n",
       "      <td>Storey, Mr. Thomas</td>\n",
       "      <td>male</td>\n",
       "      <td>60.5</td>\n",
       "      <td>0</td>\n",
       "      <td>0</td>\n",
       "      <td>3701</td>\n",
       "      <td>NaN</td>\n",
       "      <td>NaN</td>\n",
       "      <td>S</td>\n",
       "    </tr>\n",
       "  </tbody>\n",
       "</table>\n",
       "</div>"
      ],
      "text/plain": [
       "     PassengerId  Pclass                Name   Sex   Age  SibSp  Parch Ticket  \\\n",
       "152         1044       3  Storey, Mr. Thomas  male  60.5      0      0   3701   \n",
       "\n",
       "     Fare Cabin Embarked  \n",
       "152   NaN   NaN        S  "
      ]
     },
     "execution_count": 12,
     "metadata": {},
     "output_type": "execute_result"
    }
   ],
   "source": [
    "test.loc[test.Fare.isnull()]"
   ]
  },
  {
   "cell_type": "code",
   "execution_count": 13,
   "metadata": {},
   "outputs": [
    {
     "data": {
      "text/plain": [
       "<matplotlib.axes._subplots.AxesSubplot at 0x22e4df24ec8>"
      ]
     },
     "execution_count": 13,
     "metadata": {},
     "output_type": "execute_result"
    },
    {
     "data": {
      "image/png": "[encoded data removed]",
      "text/plain": [
       "<Figure size 432x288 with 1 Axes>"
      ]
     },
     "metadata": {
      "needs_background": "light"
     },
     "output_type": "display_data"
    }
   ],
   "source": [
    "sns.boxplot(x='Pclass', y='Fare', data=train)"
   ]
  },
  {
   "cell_type": "markdown",
   "metadata": {},
   "source": [
    "可以使用第3船舱的票价的均值来填补。\n",
    "\n",
    "### 家人\n",
    "\n",
    "乘客的家人包括他的兄弟姐妹配偶，还有他的父母子女。通常来说，有家人的帮助会更容易生存下来。"
   ]
  },
  {
   "cell_type": "code",
   "execution_count": 14,
   "metadata": {},
   "outputs": [
    {
     "data": {
      "text/plain": [
       "<matplotlib.axes._subplots.AxesSubplot at 0x22e4df90988>"
      ]
     },
     "execution_count": 14,
     "metadata": {},
     "output_type": "execute_result"
    },
    {
     "data": {
      "image/png": "[encoded data removed]",
      "text/plain": [
       "<Figure size 432x288 with 1 Axes>"
      ]
     },
     "metadata": {
      "needs_background": "light"
     },
     "output_type": "display_data"
    }
   ],
   "source": [
    "train['Family']=train['SibSp']+train['Parch']\n",
    "sns.barplot(x=\"Family\", y=\"Survived\", data=train)"
   ]
  },
  {
   "cell_type": "markdown",
   "metadata": {},
   "source": [
    "可以看出，只有自己一个人在船上的乘客的生存率基本上和总生存率差不多，而有1到3个家人的乘客生存率会高一些，有4到6个家人的乘客数量可能比较少，所以他们的生存率波动较大，而且有这么多家人的乘客一般都住在最底层的船舱，有可能全家都没能幸免。通过分析，因此可以尝试将这个特征分成4组。\n",
    "\n",
    "### 出发港"
   ]
  },
  {
   "cell_type": "code",
   "execution_count": 15,
   "metadata": {
    "scrolled": true
   },
   "outputs": [
    {
     "data": {
      "text/plain": [
       "<matplotlib.axes._subplots.AxesSubplot at 0x22e4e0dd748>"
      ]
     },
     "execution_count": 15,
     "metadata": {},
     "output_type": "execute_result"
    },
    {
     "data": {
      "image/png": "[encoded data removed]",
      "text/plain": [
       "<Figure size 432x288 with 1 Axes>"
      ]
     },
     "metadata": {
      "needs_background": "light"
     },
     "output_type": "display_data"
    }
   ],
   "source": [
    "sns.barplot(x='Embarked',y='Survived', data=train)"
   ]
  },
  {
   "cell_type": "markdown",
   "metadata": {},
   "source": [
    "从C港出发的乘客生存率会大一些，这很可能是因为C港出发的人比较有钱。"
   ]
  },
  {
   "cell_type": "code",
   "execution_count": 16,
   "metadata": {},
   "outputs": [
    {
     "data": {
      "text/plain": [
       "<matplotlib.axes._subplots.AxesSubplot at 0x22e4e14c408>"
      ]
     },
     "execution_count": 16,
     "metadata": {},
     "output_type": "execute_result"
    },
    {
     "data": {
      "image/png": "[encoded data removed]",
      "text/plain": [
       "<Figure size 432x288 with 1 Axes>"
      ]
     },
     "metadata": {
      "needs_background": "light"
     },
     "output_type": "display_data"
    }
   ],
   "source": [
    "sns.boxplot(x='Embarked', y='Fare', data=train)"
   ]
  },
  {
   "cell_type": "code",
   "execution_count": 17,
   "metadata": {},
   "outputs": [
    {
     "data": {
      "text/html": [
       "<div>\n",
       "<style scoped>\n",
       "    .dataframe tbody tr th:only-of-type {\n",
       "        vertical-align: middle;\n",
       "    }\n",
       "\n",
       "    .dataframe tbody tr th {\n",
       "        vertical-align: top;\n",
       "    }\n",
       "\n",
       "    .dataframe thead th {\n",
       "        text-align: right;\n",
       "    }\n",
       "</style>\n",
       "<table border=\"1\" class=\"dataframe\">\n",
       "  <thead>\n",
       "    <tr style=\"text-align: right;\">\n",
       "      <th></th>\n",
       "      <th>PassengerId</th>\n",
       "      <th>Survived</th>\n",
       "      <th>Pclass</th>\n",
       "      <th>Name</th>\n",
       "      <th>Sex</th>\n",
       "      <th>Age</th>\n",
       "      <th>SibSp</th>\n",
       "      <th>Parch</th>\n",
       "      <th>Ticket</th>\n",
       "      <th>Fare</th>\n",
       "      <th>Cabin</th>\n",
       "      <th>Embarked</th>\n",
       "      <th>Family</th>\n",
       "    </tr>\n",
       "  </thead>\n",
       "  <tbody>\n",
       "    <tr>\n",
       "      <th>61</th>\n",
       "      <td>62</td>\n",
       "      <td>1</td>\n",
       "      <td>1</td>\n",
       "      <td>Icard, Miss. Amelie</td>\n",
       "      <td>female</td>\n",
       "      <td>38.0</td>\n",
       "      <td>0</td>\n",
       "      <td>0</td>\n",
       "      <td>113572</td>\n",
       "      <td>80.0</td>\n",
       "      <td>B28</td>\n",
       "      <td>NaN</td>\n",
       "      <td>0</td>\n",
       "    </tr>\n",
       "    <tr>\n",
       "      <th>829</th>\n",
       "      <td>830</td>\n",
       "      <td>1</td>\n",
       "      <td>1</td>\n",
       "      <td>Stone, Mrs. George Nelson (Martha Evelyn)</td>\n",
       "      <td>female</td>\n",
       "      <td>62.0</td>\n",
       "      <td>0</td>\n",
       "      <td>0</td>\n",
       "      <td>113572</td>\n",
       "      <td>80.0</td>\n",
       "      <td>B28</td>\n",
       "      <td>NaN</td>\n",
       "      <td>0</td>\n",
       "    </tr>\n",
       "  </tbody>\n",
       "</table>\n",
       "</div>"
      ],
      "text/plain": [
       "     PassengerId  Survived  Pclass                                       Name  \\\n",
       "61            62         1       1                        Icard, Miss. Amelie   \n",
       "829          830         1       1  Stone, Mrs. George Nelson (Martha Evelyn)   \n",
       "\n",
       "        Sex   Age  SibSp  Parch  Ticket  Fare Cabin Embarked  Family  \n",
       "61   female  38.0      0      0  113572  80.0   B28      NaN       0  \n",
       "829  female  62.0      0      0  113572  80.0   B28      NaN       0  "
      ]
     },
     "execution_count": 17,
     "metadata": {},
     "output_type": "execute_result"
    }
   ],
   "source": [
    "train.loc[train.Embarked.isnull()]"
   ]
  },
  {
   "cell_type": "markdown",
   "metadata": {},
   "source": [
    "所以可以推测，这两个乘客很可能是从C港出发的。\n",
    "\n",
    "### 客舱号\n",
    "\n",
    "这个特征由于有大量的缺失值，可能对分类并没有特别大的影响，但是也可以提取出一些有用信息。比如讲客舱号的首字母提取出来，这可能比`Pclass`更加详细地代表了船的某一部分区域。"
   ]
  },
  {
   "cell_type": "code",
   "execution_count": 18,
   "metadata": {},
   "outputs": [
    {
     "data": {
      "text/plain": [
       "<matplotlib.axes._subplots.AxesSubplot at 0x22e4e1f5d88>"
      ]
     },
     "execution_count": 18,
     "metadata": {},
     "output_type": "execute_result"
    },
    {
     "data": {
      "image/png": "[encoded data removed]",
      "text/plain": [
       "<Figure size 432x288 with 1 Axes>"
      ]
     },
     "metadata": {
      "needs_background": "light"
     },
     "output_type": "display_data"
    }
   ],
   "source": [
    "train['Cabin'] = train['Cabin'].fillna('Unknown')\n",
    "train['Deck']=train['Cabin'].str.get(0)\n",
    "sns.barplot(x=\"Deck\", y=\"Survived\", data=train)"
   ]
  },
  {
   "cell_type": "markdown",
   "metadata": {},
   "source": [
    "可见B类，D类，C类和E类船舱的乘客生存率比较大一些，而U类，即缺失船舱号的乘客比较接近总体的生存率，其他类船舱的乘客生存率波动较大，无法准确判断，因此可以将船舱号划分为3类。\n",
    "\n",
    "### 名字\n",
    "名字中也包含了乘客的很多信息，比如性别，身份，地位等，应该尝试提取出这部分信息。"
   ]
  },
  {
   "cell_type": "code",
   "execution_count": 6,
   "metadata": {},
   "outputs": [
    {
     "data": {
      "text/plain": [
       "Mr        517\n",
       "Miss      182\n",
       "Mrs       125\n",
       "Master     40\n",
       "Dr          7\n",
       "Name: Status, dtype: int64"
      ]
     },
     "execution_count": 6,
     "metadata": {},
     "output_type": "execute_result"
    }
   ],
   "source": [
    "train['Status'] = train['Name'].str.split(\", \", expand=True)[1].str.split(\".\", expand=True)[0]\n",
    "train[\"Status\"].value_counts().head(5)"
   ]
  },
  {
   "cell_type": "markdown",
   "metadata": {},
   "source": [
    "可以根据经验，将这些称呼分成6类。"
   ]
  },
  {
   "cell_type": "code",
   "execution_count": 7,
   "metadata": {},
   "outputs": [
    {
     "data": {
      "text/plain": [
       "<matplotlib.axes._subplots.AxesSubplot at 0x1e04864b3c8>"
      ]
     },
     "execution_count": 7,
     "metadata": {},
     "output_type": "execute_result"
    },
    {
     "data": {
      "image/png": "[encoded data removed]",
      "text/plain": [
       "<Figure size 432x288 with 1 Axes>"
      ]
     },
     "metadata": {
      "needs_background": "light"
     },
     "output_type": "display_data"
    }
   ],
   "source": [
    "train['Status'].replace(['Capt', 'Col', 'Major', 'Dr', 'Rev'], 'Officer', inplace=True)\n",
    "train['Status'].replace(['Don', 'Sir', 'the Countess', 'Dona', 'Lady'], 'Royalty', inplace=True)\n",
    "train['Status'].replace(['Mme', 'Ms', 'Mrs'], 'Mrs', inplace=True)\n",
    "train['Status'].replace(['Mlle', 'Miss'], 'Miss', inplace=True)\n",
    "train['Status'].replace('Jonkheer', 'Master', inplace=True)\n",
    "\n",
    "sns.barplot(x=\"Status\", y=\"Survived\", data=train)"
   ]
  },
  {
   "cell_type": "markdown",
   "metadata": {},
   "source": [
    "## 3. 数据处理\n",
    "<a id=3></a>\n",
    "\n",
    "下面通过上一节的分析，总结出相应的数据处理：\n",
    "- `PassengerId`，`Ticket`属于无关信息，做删除处理。\n",
    "- 特征提取：\n",
    "    - 从`Name`中提取出身份信息\n",
    "    - 将`SibSp` 和 `Parch`合并成新的特征\n",
    "    - 从`Cabin`中提取出新的特征\n",
    "- 补充缺失值：\n",
    "    - 使用使用随机森林结合其它相关特征进行预测`Age`\n",
    "    - `Fare` 和 `Embarked`根据上节分析直接补充缺失值\n",
    "- 对数据做编码处理\n",
    "\n",
    "\n",
    "### 整合数据"
   ]
  },
  {
   "cell_type": "code",
   "execution_count": 21,
   "metadata": {},
   "outputs": [],
   "source": [
    "PassengerId=test['PassengerId']#由于后期还需要使用ID得到结果，所以先保存起来\n",
    "all_data = pd.concat([train, test], ignore_index = True)#将测试数据和训练数据整合在一块，方便统一处理\n",
    "all_data.set_index('PassengerId', inplace=True)\n",
    "all_data.drop('Ticket', axis=1 ,inplace=True)"
   ]
  },
  {
   "cell_type": "markdown",
   "metadata": {},
   "source": [
    "### 特征提取\n",
    "\n",
    "从`Name`中提取乘客身份信息。"
   ]
  },
  {
   "cell_type": "code",
   "execution_count": 22,
   "metadata": {},
   "outputs": [],
   "source": [
    "all_data['Status'] = all_data['Name'].str.split(\", \", expand=True)[1].str.split(\".\", expand=True)[0]\n",
    "all_data['Status'].replace(['Capt', 'Col', 'Major', 'Dr', 'Rev'], 'Officer', inplace=True)\n",
    "all_data['Status'].replace(['Don', 'Sir', 'the Countess', 'Dona', 'Lady'], 'Royalty', inplace=True)\n",
    "all_data['Status'].replace(['Mme', 'Ms', 'Mrs'], 'Mrs', inplace=True)\n",
    "all_data['Status'].replace(['Mlle', 'Miss'], 'Miss', inplace=True)\n",
    "all_data['Status'].replace('Jonkheer', 'Master', inplace=True)"
   ]
  },
  {
   "cell_type": "markdown",
   "metadata": {},
   "source": [
    "从`SibSp` 和 `Parch`提取家人信息并分类。"
   ]
  },
  {
   "cell_type": "code",
   "execution_count": 23,
   "metadata": {},
   "outputs": [],
   "source": [
    "all_data['Family']=all_data['SibSp']+all_data['Parch']\n",
    "def Fam_label(s):\n",
    "    if (s == 0):\n",
    "        return 0\n",
    "    elif (s >= 1) & (s <= 3):\n",
    "        return 1\n",
    "    elif ((s >= 4) & (s <= 6)):\n",
    "        return 2\n",
    "    elif (s >= 7):\n",
    "        return 3\n",
    "all_data['FamilyLabel']=all_data['Family'].apply(Fam_label)"
   ]
  },
  {
   "cell_type": "markdown",
   "metadata": {},
   "source": [
    "从`Cabin`中提取船舱号信息并分类。"
   ]
  },
  {
   "cell_type": "code",
   "execution_count": 24,
   "metadata": {},
   "outputs": [],
   "source": [
    "all_data['Cabin'].fillna('Unknown',inplace=True)\n",
    "all_data['Deck']=all_data['Cabin'].str.get(0)\n",
    "def Cabin_label(s):\n",
    "    if ((s == 'B') & (s == 'C') & (s == 'D') & (s == 'E')):\n",
    "        return 2\n",
    "    elif (s == 'U'):\n",
    "        return 1\n",
    "    else :\n",
    "        return 0\n",
    "all_data['CabinLable']=all_data['Deck'].apply(Cabin_label)"
   ]
  },
  {
   "cell_type": "markdown",
   "metadata": {},
   "source": [
    "### 补充缺失值\n",
    "\n",
    "使用随机森林算法预测缺失的年龄数据："
   ]
  },
  {
   "cell_type": "code",
   "execution_count": 25,
   "metadata": {},
   "outputs": [],
   "source": [
    "from sklearn.ensemble import RandomForestRegressor\n",
    "age = all_data[['Age', 'Pclass','SibSp','Parch']]\n",
    "known_age = age[age.Age.notnull()].values\n",
    "unknown_age = age[age.Age.isnull()].values\n",
    "y = known_age[:, 0]\n",
    "X = known_age[:, 1:]\n",
    "rfr = RandomForestRegressor(random_state=0, n_estimators=100)\n",
    "rfr.fit(X, y)\n",
    "pred_Ages = rfr.predict(unknown_age[:, 1::])\n",
    "all_data.loc[(all_data.Age.isnull()), 'Age' ] = pred_Ages "
   ]
  },
  {
   "cell_type": "markdown",
   "metadata": {},
   "source": [
    "补充出发港，船票的缺失值："
   ]
  },
  {
   "cell_type": "code",
   "execution_count": 26,
   "metadata": {},
   "outputs": [],
   "source": [
    "all_data['Embarked'].fillna('C',inplace=True)\n",
    "all_data['Fare'].fillna(all_data.loc[all_data.Pclass ==3].Fare.median(), inplace = True)"
   ]
  },
  {
   "cell_type": "code",
   "execution_count": 27,
   "metadata": {},
   "outputs": [
    {
     "data": {
      "text/plain": [
       "Survived        True\n",
       "Pclass         False\n",
       "Name           False\n",
       "Sex            False\n",
       "Age            False\n",
       "SibSp          False\n",
       "Parch          False\n",
       "Fare           False\n",
       "Cabin          False\n",
       "Embarked       False\n",
       "Family         False\n",
       "Deck           False\n",
       "Status         False\n",
       "FamilyLabel    False\n",
       "CabinLable     False\n",
       "dtype: bool"
      ]
     },
     "execution_count": 27,
     "metadata": {},
     "output_type": "execute_result"
    }
   ],
   "source": [
    "all_data.isnull().any()"
   ]
  },
  {
   "cell_type": "markdown",
   "metadata": {},
   "source": [
    "除了目标特征`Survived`，其余特征已经没有缺失值了。"
   ]
  },
  {
   "cell_type": "markdown",
   "metadata": {},
   "source": [
    "### 数据整理\n",
    "\n",
    "选取训练时需要用到的特征,并做编码处理，由于是使用树模型，并不需要进行OneHot编码："
   ]
  },
  {
   "cell_type": "code",
   "execution_count": 28,
   "metadata": {},
   "outputs": [
    {
     "name": "stderr",
     "output_type": "stream",
     "text": [
      "D:\\anaconda3\\lib\\site-packages\\pandas\\core\\indexing.py:965: SettingWithCopyWarning: \n",
      "A value is trying to be set on a copy of a slice from a DataFrame.\n",
      "Try using .loc[row_indexer,col_indexer] = value instead\n",
      "\n",
      "See the caveats in the documentation: https://pandas.pydata.org/pandas-docs/stable/user_guide/indexing.html#returning-a-view-versus-a-copy\n",
      "  self.obj[item] = s\n"
     ]
    }
   ],
   "source": [
    "select_data  = all_data[['Survived','Pclass','Sex','Age','Fare','Embarked','Status','FamilyLabel','CabinLable']]\n",
    "select_data.loc[:,['Sex','Embarked','Status']] = select_data[['Sex','Embarked','Status']].apply(LabelEncoder().fit_transform).values"
   ]
  },
  {
   "cell_type": "markdown",
   "metadata": {},
   "source": [
    "然后把需要上传到Kaggle上的测试集和已知标签的训练集分开。"
   ]
  },
  {
   "cell_type": "code",
   "execution_count": 29,
   "metadata": {},
   "outputs": [],
   "source": [
    "train_data=select_data[select_data['Survived'].notnull()]\n",
    "test_data=select_data[select_data['Survived'].isnull()].drop('Survived',axis=1)\n",
    "X = train_data.iloc[:,1:]\n",
    "y = train_data.iloc[:,0]"
   ]
  },
  {
   "cell_type": "markdown",
   "metadata": {},
   "source": [
    "使用已知标签的训练集`X`，`y`来训练模型。"
   ]
  },
  {
   "cell_type": "markdown",
   "metadata": {},
   "source": [
    "## 4. 训练模型\n",
    "<a id=4></a>\n",
    "\n",
    "使用随机森林模型，以及通过交叉验证和评价指标F1-Score进行适当地调参："
   ]
  },
  {
   "cell_type": "code",
   "execution_count": 30,
   "metadata": {
    "scrolled": true
   },
   "outputs": [
    {
     "data": {
      "text/plain": [
       "array([0.75      , 0.83076923, 0.61016949, 0.87323944, 0.86153846,\n",
       "       0.72131148, 0.74576271, 0.64285714, 0.81818182, 0.74626866])"
      ]
     },
     "execution_count": 30,
     "metadata": {},
     "output_type": "execute_result"
    }
   ],
   "source": [
    "clf = RandomForestClassifier(random_state = 10, \n",
    "                                  n_estimators = 500,\n",
    "                                  max_depth = 6)\n",
    "cv_score = cross_val_score(clf, X, y, cv= 10, scoring='f1')\n",
    "cv_score"
   ]
  },
  {
   "cell_type": "code",
   "execution_count": 31,
   "metadata": {},
   "outputs": [
    {
     "data": {
      "text/plain": [
       "(0.7600098425482457, 0.08347833164692214)"
      ]
     },
     "execution_count": 31,
     "metadata": {},
     "output_type": "execute_result"
    }
   ],
   "source": [
    "cv_score.mean(),cv_score.std()"
   ]
  },
  {
   "cell_type": "markdown",
   "metadata": {},
   "source": [
    "观察一下特征的重要程度排名："
   ]
  },
  {
   "cell_type": "code",
   "execution_count": 32,
   "metadata": {},
   "outputs": [
    {
     "data": {
      "text/plain": [
       "(array([0, 1, 2, 3, 4, 5, 6, 7]), <a list of 8 Text xticklabel objects>)"
      ]
     },
     "execution_count": 32,
     "metadata": {},
     "output_type": "execute_result"
    },
    {
     "data": {
      "image/png": "[encoded data removed]",
      "text/plain": [
       "<Figure size 432x288 with 1 Axes>"
      ]
     },
     "metadata": {
      "needs_background": "light"
     },
     "output_type": "display_data"
    }
   ],
   "source": [
    "clf.fit(X,y)\n",
    "pd.Series(clf.feature_importances_, index=X.columns).sort_values(ascending=False).plot.bar()\n",
    "plt.xticks(rotation=45)"
   ]
  },
  {
   "cell_type": "markdown",
   "metadata": {},
   "source": [
    "从图中看出`Family`和`Cabin`的特征重要程度比较小，可是按照经验来看，同一船舱的乘客由于可以互相提醒，互相帮助，很有可能会大家一起逃生，或一起遇难，在同一家庭的乘客住的比较近，也会有这样的规律。但是目前的特征不能很好的利用这样规律，因此，如果要想提高预测准确性，还需要挖掘新的特征。"
   ]
  },
  {
   "cell_type": "code",
   "execution_count": 33,
   "metadata": {},
   "outputs": [],
   "source": [
    "predictions = clf.predict(test_data)\n",
    "submission = pd.DataFrame({\"PassengerId\": PassengerId, \"Survived\": predictions.astype(np.int32)})\n",
    "submission.to_csv('submission_1.csv', index=False)"
   ]
  },
  {
   "cell_type": "markdown",
   "metadata": {},
   "source": [
    "<img src=\"Kaggle成绩排名1.png\" width=\"80%\">"
   ]
  },
  {
   "cell_type": "markdown",
   "metadata": {},
   "source": [
    "如果只利用这些特征，最后在Kaggle上可以达到0.79左右的得分。"
   ]
  },
  {
   "cell_type": "markdown",
   "metadata": {},
   "source": [
    "## 5. 模型提升\n",
    "<a id=5></a>\n",
    "\n",
    "\n",
    "由上节的分析，同一家族的乘客很可能同时逃生或同时丧生，希望可以将同一家族的乘客分组到一起来分析，自然想到从`Name`中挖掘出更好的特征，即使用姓氏来分组:"
   ]
  },
  {
   "cell_type": "code",
   "execution_count": 34,
   "metadata": {},
   "outputs": [],
   "source": [
    "all_data['Surname']=all_data['Name'].apply(lambda x:x.split(',')[0].strip())\n",
    "Surname_Count = dict(all_data['Surname'].value_counts())\n",
    "all_data['FamilyGroup'] = all_data['Surname'].apply(lambda x:Surname_Count[x])"
   ]
  },
  {
   "cell_type": "markdown",
   "metadata": {},
   "source": [
    "由于船长的命令，使得儿童和女性乘客更有可能生存下来。但是，由于一些情况，有些家庭并没有及时获得相关的消息，因此会有同一个家庭内的儿童或女性乘客一起遇难。同样的，成年男性乘客的生存率很低，但也有些也在家人的帮助下生存下来，我们需要找到特征可以反映出这方面的信息。\n",
    "\n",
    "分别将有其他家庭成员的儿童或女性乘客，以及成年男性乘客提取出来："
   ]
  },
  {
   "cell_type": "code",
   "execution_count": 35,
   "metadata": {},
   "outputs": [],
   "source": [
    "Female_Child_Group=all_data.loc[(all_data['FamilyGroup']>=2) & ((all_data['Age']<=12) | (all_data['Sex']=='female'))]\n",
    "Male_Adult_Group=all_data.loc[(all_data['FamilyGroup']>=2) & (all_data['Age']>12) & (all_data['Sex']=='male')]"
   ]
  },
  {
   "cell_type": "code",
   "execution_count": 36,
   "metadata": {},
   "outputs": [
    {
     "data": {
      "text/plain": [
       "(array([0, 1, 2, 3, 4]), <a list of 5 Text xticklabel objects>)"
      ]
     },
     "execution_count": 36,
     "metadata": {},
     "output_type": "execute_result"
    },
    {
     "data": {
      "image/png": "[encoded data removed]",
      "text/plain": [
       "<Figure size 432x288 with 1 Axes>"
      ]
     },
     "metadata": {
      "needs_background": "light"
     },
     "output_type": "display_data"
    }
   ],
   "source": [
    "Female_Child_Group.groupby('Surname')['Survived'].mean().apply(lambda x: round(x,2)).value_counts().plot.bar()\n",
    "plt.xticks(rotation=0)"
   ]
  },
  {
   "cell_type": "code",
   "execution_count": 37,
   "metadata": {},
   "outputs": [
    {
     "data": {
      "text/plain": [
       "(array([0, 1, 2, 3, 4]), <a list of 5 Text xticklabel objects>)"
      ]
     },
     "execution_count": 37,
     "metadata": {},
     "output_type": "execute_result"
    },
    {
     "data": {
      "image/png": "[encoded data removed]",
      "text/plain": [
       "<Figure size 432x288 with 1 Axes>"
      ]
     },
     "metadata": {
      "needs_background": "light"
     },
     "output_type": "display_data"
    }
   ],
   "source": [
    "Male_Adult_Group.groupby('Surname')['Survived'].mean().apply(lambda x: round(x,2)).value_counts().plot.bar()\n",
    "plt.xticks(rotation=0)"
   ]
  },
  {
   "cell_type": "markdown",
   "metadata": {},
   "source": [
    "从上面两图可以看出大致符合我们的推理，这两个组的每个家庭几乎要么都幸存要么都遇难，由于只基于上节的特征，会把儿童或女性乘客组大概率预测生存，把成年男性组大概率预测为遇难，因此我们想添加两个特征，希望模型可以区分出儿童或女性乘客组中的遇难成员，以及成年男性组中的幸存者："
   ]
  },
  {
   "cell_type": "code",
   "execution_count": 38,
   "metadata": {},
   "outputs": [
    {
     "name": "stdout",
     "output_type": "stream",
     "text": [
      "{'Lefebre', 'Rosblom', 'Cacic', 'Boulos', 'Canavan', 'Oreskovic', 'Robins', 'Sage', 'Attalah', 'Strom', 'Zabour', 'Lahtinen', 'Van Impe', 'Bourke', 'Barbara', 'Lobb', 'Panula', 'Goodwin', 'Rice', 'Turpin', 'Palsson', 'Johnston', 'Skoog', 'Danbom', 'Arnold-Franchi', 'Jussila', 'Olsson', 'Caram', 'Ilmakangas', 'Vander Planke', 'Ford'}\n",
      "{'Jonsson', 'Goldenberg', 'Greenfield', 'Kimball', 'Chambers', 'Frauenthal', 'Bishop', 'Frolicher-Stehli', 'McCoy', 'Beane', 'Daly', 'Taylor', 'Bradley', 'Harder', 'Dick', 'Nakid', 'Jussila', 'Cardeza', 'Beckwith', 'Duff Gordon', 'Moubarek'}\n"
     ]
    }
   ],
   "source": [
    "Female_Child_List=Female_Child_Group.groupby('Surname')['Survived'].mean()\n",
    "Dead_List=set(Female_Child_List[Female_Child_List.apply(lambda x:x==0)].index)\n",
    "print(Dead_List)\n",
    "Male_Adult_List=Male_Adult_Group.groupby('Surname')['Survived'].mean()\n",
    "Survived_List=set(Male_Adult_List[Male_Adult_List.apply(lambda x:x==1)].index)\n",
    "print(Survived_List)"
   ]
  },
  {
   "cell_type": "markdown",
   "metadata": {},
   "source": [
    "添加特征`Victims`和`Survivors`来标记遇难的乘客和幸存的乘客："
   ]
  },
  {
   "cell_type": "code",
   "execution_count": 39,
   "metadata": {},
   "outputs": [],
   "source": [
    "all_data['Victims'] = all_data.Surname.apply(lambda x: int(x in Dead_List))\n",
    "all_data['Survivors'] = all_data.Surname.apply(lambda x: int(x in Survived_List))"
   ]
  },
  {
   "cell_type": "markdown",
   "metadata": {},
   "source": [
    "重复上节训练模型操作:"
   ]
  },
  {
   "cell_type": "code",
   "execution_count": 40,
   "metadata": {},
   "outputs": [
    {
     "name": "stderr",
     "output_type": "stream",
     "text": [
      "D:\\anaconda3\\lib\\site-packages\\pandas\\core\\indexing.py:965: SettingWithCopyWarning: \n",
      "A value is trying to be set on a copy of a slice from a DataFrame.\n",
      "Try using .loc[row_indexer,col_indexer] = value instead\n",
      "\n",
      "See the caveats in the documentation: https://pandas.pydata.org/pandas-docs/stable/user_guide/indexing.html#returning-a-view-versus-a-copy\n",
      "  self.obj[item] = s\n"
     ]
    }
   ],
   "source": [
    "new_data  = all_data[['Survived','Pclass','Sex','Age','Fare','Embarked','Status',\n",
    "                      'FamilyLabel','CabinLable','Victims','Survivors']]\n",
    "new_data.loc[:,['Sex','Embarked','Status']] = new_data[['Sex','Embarked','Status']].apply(LabelEncoder().fit_transform).values"
   ]
  },
  {
   "cell_type": "code",
   "execution_count": 41,
   "metadata": {},
   "outputs": [],
   "source": [
    "new_train=new_data[new_data['Survived'].notnull()]\n",
    "new_test=new_data[new_data['Survived'].isnull()].drop('Survived',axis=1)\n",
    "new_X = new_train.iloc[:,1:]\n",
    "new_y = new_train.iloc[:,0]"
   ]
  },
  {
   "cell_type": "code",
   "execution_count": 42,
   "metadata": {},
   "outputs": [
    {
     "data": {
      "text/plain": [
       "array([0.82539683, 0.92307692, 0.71186441, 0.90140845, 0.88888889,\n",
       "       0.8125    , 0.85714286, 0.8       , 0.89230769, 0.84057971])"
      ]
     },
     "execution_count": 42,
     "metadata": {},
     "output_type": "execute_result"
    }
   ],
   "source": [
    "clf_improved = RandomForestClassifier(random_state = 10, \n",
    "                                  n_estimators = 500,\n",
    "                                  max_depth = 6)\n",
    "new_cv_score = cross_val_score(clf_improved, new_X, new_y, cv= 10, scoring='f1')\n",
    "new_cv_score"
   ]
  },
  {
   "cell_type": "code",
   "execution_count": 43,
   "metadata": {},
   "outputs": [
    {
     "data": {
      "text/plain": [
       "(0.8453165754442, 0.05899048900112746)"
      ]
     },
     "execution_count": 43,
     "metadata": {},
     "output_type": "execute_result"
    }
   ],
   "source": [
    "new_cv_score.mean(),new_cv_score.std()"
   ]
  },
  {
   "cell_type": "markdown",
   "metadata": {},
   "source": [
    "与上节结果比较，可知模型预测性能获得大幅提升。"
   ]
  },
  {
   "cell_type": "code",
   "execution_count": 44,
   "metadata": {},
   "outputs": [],
   "source": [
    "clf_improved.fit(new_X,new_y)\n",
    "predictions = clf_improved.predict(new_test)\n",
    "submission = pd.DataFrame({\"PassengerId\": PassengerId, \"Survived\": predictions.astype(np.int32)})\n",
    "submission.to_csv('submission_2.csv', index=False)"
   ]
  },
  {
   "cell_type": "markdown",
   "metadata": {},
   "source": [
    "在Kaggle上的得分也获得了一定的提升。"
   ]
  },
  {
   "cell_type": "markdown",
   "metadata": {},
   "source": [
    "<img src=\"Kaggle成绩排名2.png\" width=\"80%\">"
   ]
  }
 ],
 "metadata": {
  "kernelspec": {
   "display_name": "Python 3",
   "language": "python",
   "name": "python3"
  },
  "language_info": {
   "codemirror_mode": {
    "name": "ipython",
    "version": 3
   },
   "file_extension": ".py",
   "mimetype": "text/x-python",
   "name": "python",
   "nbconvert_exporter": "python",
   "pygments_lexer": "ipython3",
   "version": "3.7.6"
  }
 },
 "nbformat": 4,
 "nbformat_minor": 4
}
