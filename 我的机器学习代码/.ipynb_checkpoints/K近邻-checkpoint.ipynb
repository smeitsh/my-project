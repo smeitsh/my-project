{
 "cells": [
  {
   "cell_type": "markdown",
   "metadata": {},
   "source": [
    "# K-nearest neighbor"
   ]
  },
  {
   "cell_type": "markdown",
   "metadata": {},
   "source": [
    "$k$-近邻法是一种基本的分类方法，它的优点是算法简单、直观，无需训练，对异常点不敏感，但同时它也面临着样本不平衡问题以及维数灾难问题，而且预测时计算开销大，这对用户来说不是很友好。\n",
    "\n",
    "总的来说，KNN算法就是在训练集中寻找与给定数据最近的K个点，若这K个点多数属于某个类，则判定这个给定的数据也属于这个类。\n",
    "\n",
    "## 算法：\n",
    "\n",
    "- 给定参数k值（近邻点个数），参数p值（Minkowski距离）；\n",
    "\n",
    "- 计算测试数据与各个训练数据之间的距离（这里我们使用欧式距离）；\n",
    "\n",
    "- 按照距离的递增关系进行排序；\n",
    "\n",
    "- 选取距离最近的前$k$个点；\n",
    "\n",
    "- 确定前$k$个点所在类别的出现频率；\n",
    "\n",
    "- 返回前$k$个点中出现频率最高的类别作为测试数据的预测分类。"
   ]
  },
  {
   "cell_type": "code",
   "execution_count": 2,
   "metadata": {},
   "outputs": [],
   "source": [
    "import numpy as np"
   ]
  },
  {
   "cell_type": "code",
   "execution_count": 24,
   "metadata": {},
   "outputs": [],
   "source": [
    "class KNN:\n",
    "    def __init__(self, k, p=2):#参数为近邻点个数k，以及Minkowski距离公式中的指数p\n",
    "        self.k = k\n",
    "        self.p = p\n",
    "        \n",
    "    def fit(self, X, y):#参数二维数组X为特征数组，一维数组y为类别数组，训练只是保存数组\n",
    "        self.X = X\n",
    "        self.y = y\n",
    "        \n",
    "    def predict(self, X_test):#参数为一维数组\n",
    "        #计算距离\n",
    "        dist_list = [(np.linalg.norm(X_test-self.X[i],ord=self.p),self.y[i]) for i in range(len(self.X))]\n",
    "        #这里使用np.linalg.norm(a-b,ord=p)函数代替sum(abs(a-b)**p)**(1/p)，元组（距离，类别）表示测试数据与训练数据的信息，并用列表保存\n",
    "        \n",
    "        #按距离从小到大排序\n",
    "        sort_list = sorted(dist_list,key=lambda x: x[0])#sorted,min,max中的key参数传入一个函数，按函数值来排序，或取最小最大值\n",
    "        \n",
    "        #选取前k个样本点\n",
    "        knn_list = sort_list[:self.k]\n",
    "        \n",
    "        #统计这些样本点的类别个数\n",
    "        knn_class=[i[1] for i in knn_list]\n",
    "        knn_dict={}\n",
    "        for key in knn_class:\n",
    "            knn_dict[key] = knn_dict.get(key,0) + 1\n",
    "        return max(knn_dict, key=knn_dict.get) #返回值最大的键名"
   ]
  },
  {
   "cell_type": "markdown",
   "metadata": {},
   "source": [
    "## 测试"
   ]
  },
  {
   "cell_type": "code",
   "execution_count": 25,
   "metadata": {},
   "outputs": [],
   "source": [
    "from sklearn.datasets import load_iris\n",
    "import pandas as pd\n",
    "from sklearn.model_selection import train_test_split"
   ]
  },
  {
   "cell_type": "code",
   "execution_count": 26,
   "metadata": {},
   "outputs": [],
   "source": [
    "iris = load_iris()\n",
    "df = pd.DataFrame(iris.data, columns=iris.feature_names)\n",
    "df['label'] = iris.target"
   ]
  },
  {
   "cell_type": "code",
   "execution_count": 51,
   "metadata": {},
   "outputs": [],
   "source": [
    "X = np.array(df.iloc[:, :-1])\n",
    "y = np.array(df.iloc[:, -1])"
   ]
  },
  {
   "cell_type": "code",
   "execution_count": 96,
   "metadata": {},
   "outputs": [],
   "source": [
    "X_train, X_test, y_train, y_test = train_test_split(X, y, test_size=0.2,random_state=0)"
   ]
  },
  {
   "cell_type": "code",
   "execution_count": 105,
   "metadata": {},
   "outputs": [],
   "source": [
    "clf = KNN(k=3)"
   ]
  },
  {
   "cell_type": "code",
   "execution_count": 106,
   "metadata": {},
   "outputs": [],
   "source": [
    "clf.fit(X_train, y_train)"
   ]
  },
  {
   "cell_type": "code",
   "execution_count": 107,
   "metadata": {},
   "outputs": [],
   "source": [
    "y_prediction = [clf.predict(X_test[i,:]) for i in range(len(X_test))]#因为输入参数为一维数组，得到预测值"
   ]
  },
  {
   "cell_type": "code",
   "execution_count": 109,
   "metadata": {},
   "outputs": [
    {
     "data": {
      "text/plain": [
       "0.9666666666666667"
      ]
     },
     "execution_count": 109,
     "metadata": {},
     "output_type": "execute_result"
    }
   ],
   "source": [
    "count = 0  #评估KNN算法的准确率\n",
    "for i in range(len(y_test)):\n",
    "    if y_prediction[i] == y_test[i]:\n",
    "        count += 1\n",
    "count/len(y_test)"
   ]
  },
  {
   "cell_type": "markdown",
   "metadata": {},
   "source": [
    "## 改进\n",
    "- 没必要对所有的距离进行排序，只需要选取距离最小的k个点就行，会节省一些时间？\n",
    "- 使用kdTree算法（暂时还不会写，以后补上）"
   ]
  },
  {
   "cell_type": "code",
   "execution_count": null,
   "metadata": {},
   "outputs": [],
   "source": []
  }
 ],
 "metadata": {
  "kernelspec": {
   "display_name": "Python 3",
   "language": "python",
   "name": "python3"
  },
  "language_info": {
   "codemirror_mode": {
    "name": "ipython",
    "version": 3
   },
   "file_extension": ".py",
   "mimetype": "text/x-python",
   "name": "python",
   "nbconvert_exporter": "python",
   "pygments_lexer": "ipython3",
   "version": "3.7.6"
  }
 },
 "nbformat": 4,
 "nbformat_minor": 2
}
