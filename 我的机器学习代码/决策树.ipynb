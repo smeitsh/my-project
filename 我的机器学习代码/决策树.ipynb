{
 "cells": [
  {
   "cell_type": "markdown",
   "metadata": {},
   "source": [
    "# DecisionTree"
   ]
  },
  {
   "cell_type": "markdown",
   "metadata": {},
   "source": []
  },
  {
   "cell_type": "code",
   "execution_count": 1,
   "metadata": {},
   "outputs": [],
   "source": [
    "import numpy as np"
   ]
  },
  {
   "cell_type": "markdown",
   "metadata": {},
   "source": [
    "## ID3和C4.5算法实现："
   ]
  },
  {
   "cell_type": "code",
   "execution_count": 2,
   "metadata": {},
   "outputs": [],
   "source": [
    "class TreeNode():\n",
    "    \"\"\"\n",
    "    树结点\n",
    "    \"\"\"\n",
    "    def __init__(self, node=None, edge=None, leaf_node=None, child_node=None ):\n",
    "        \"\"\"\n",
    "        node: 当前结点，储存的是当前划分的特征的索引\n",
    "        \n",
    "        edge： 边，储存的是划分特征的不同取值\n",
    "        \n",
    "        leaf_node: 叶节点，用于储存类别标签\n",
    "        \n",
    "        child_node: 子节点，储存下一层树的结点，字典形式{edge：nextnode}\n",
    "        \"\"\"\n",
    "        self.node = node\n",
    "        self.edge = edge\n",
    "        self.leaf_node = leaf_node\n",
    "        self.child_node = child_node\n",
    "    "
   ]
  },
  {
   "cell_type": "code",
   "execution_count": 3,
   "metadata": {},
   "outputs": [],
   "source": [
    "class DecisionTreeClassifier():\n",
    "    def __init__(self, entropy='gain', epsilon=0.01, max_depth=None):\n",
    "        \"\"\"\n",
    "        参数：\n",
    "        entropy = 'gain' or 'gain_ratio'：表示使用信息增益或信息增益比作为特征选择准则\n",
    "        \n",
    "        epsilon：阈值，小于这个阈值则停止划分特征\n",
    "        \n",
    "        max_depth：若树超过这个深度则停止生长\n",
    "        \n",
    "        root: 储存生成的树结构\n",
    "        \"\"\"\n",
    "        self.root = None\n",
    "        self.entropy = entropy\n",
    "        self.epsilon = epsilon\n",
    "        self.max_depth = max_depth\n",
    "\n",
    "    \n",
    "    def calc_entropy(self, y):\n",
    "        \"\"\"\n",
    "        计算熵\n",
    "        \n",
    "        y：n×1维向量，为数据集的标签向量\n",
    "        \"\"\"\n",
    "        entropy = 0\n",
    "        labels, counts = np.unique(y,return_counts=True)#返回一个2个元素的元组，第一个元素为类别数组，第二个为计数数组\n",
    "        p = counts/(np.sum(counts))\n",
    "        entropy = np.sum(-p * np.log2(p))\n",
    "        return entropy\n",
    "    \n",
    "    def calc_cond_entropy(self, x, y):\n",
    "        \"\"\"\n",
    "        计算条件熵\n",
    "        \n",
    "        x: n×1维向量，代表某一个特征上的数据\n",
    "        y: n×1维向量,对应的类别向量\n",
    "        \"\"\"\n",
    "        cond_entropy=0\n",
    "        x_val, val_counts = np.unique(x, return_counts=True)#对特征x的取值进行计数\n",
    "        for val, counts in zip(x_val,val_counts):\n",
    "            y_sub = y[x==val]\n",
    "            entropy = self.calc_entropy(y_sub)\n",
    "            p = counts/len(x)\n",
    "            cond_entropy += p*entropy\n",
    "        return cond_entropy\n",
    "    \n",
    "    def calc_gain(self, x, y):\n",
    "        \"\"\"\n",
    "        计算信息增益（特征同上）\n",
    "        \"\"\"\n",
    "        print(self.calc_entropy(y) - self.calc_cond_entropy(x,y))\n",
    "        return self.calc_entropy(y) - self.calc_cond_entropy(x,y)#熵减去条件熵\n",
    "    \n",
    "    def calc_gain_ratio(self, x, y):\n",
    "        \"\"\"\n",
    "        计算信息增益比（特征同上）\n",
    "        \"\"\"\n",
    "        return self.calc_gain(x,y) / self.calc_entropy(x)#信息增益/特征x的熵\n",
    "    \n",
    "    def vote(self, y):\n",
    "        \"\"\"\n",
    "        投票法决定最后叶节点的值\n",
    "        \"\"\"\n",
    "        labels, counts = np.unique(y,return_counts=True)#计数\n",
    "        return labels[np.argmax(counts)]#返回出现次数最多的标签作为叶节点的值\n",
    "        \n",
    "    def build_tree(self, X, y, feature_set,depth=0):\n",
    "        \"\"\"\n",
    "        递归生成一棵树：\n",
    "        \n",
    "        X：二维数组，数据集\n",
    "        y：一维向量，标签\n",
    "        feature_set: 子树可供选择的特征集\n",
    "        depth： 树的当前深度\n",
    "        \"\"\"\n",
    "        # 当子树中的所有数据都属于同一类时，将该子树设为叶节点\n",
    "        if np.unique(y).shape[0] == 1:\n",
    "            return TreeNode(leaf_node=self.vote(y))\n",
    "        \n",
    "        \n",
    "        #当子树特征集为空时，将该子树设为叶节点           \n",
    "        if not feature_set:                           #空集合默认为False\n",
    "            return TreeNode(leaf_node=self.vote(y))\n",
    "        \n",
    "        #当子树的深度达到最大深度时，将该子树设为叶节点\n",
    "        if depth == self.max_depth:\n",
    "            return TreeNode(leaf_node=self.vote(y))\n",
    "        \n",
    "        #选择信息增益或信息增益比最大的特征\n",
    "        max_info = 0   #记录最大信息增益或信息增益比\n",
    "        node_feature = 0       #记录对应的特征索引\n",
    "        for i in feature_set:\n",
    "            if self.entropy == 'gain':                 #计算特征的信息增益或信息增益比\n",
    "                info = self.calc_gain(X[:,i],y)\n",
    "            elif self.entropy == 'gain_ratio':\n",
    "                info = self.calc_gain_ratio(X[:,i],y)\n",
    "                \n",
    "            if info > max_info :                       #更新最大信息增益（比）的值以及对应的特征索引，此时特征索引应该排除之前选过的\n",
    "                max_info = info\n",
    "                node_feature = i\n",
    "                \n",
    "        #若最大的信息增益（比）小于阈值，则将该子树设为叶节点\n",
    "        if max_info <= self.epsilon:\n",
    "            return TreeNode(leaf_node=self.vote(y))\n",
    "        \n",
    "        #以最大信息增益（比）的特征取值划分子树\n",
    "        child_tree={}\n",
    "        feature_values = np.unique(X[:,node_feature])            # 特征取值\n",
    "        for val in feature_values:\n",
    "            child_X = X[X[:,node_feature]==val]                  #按特征某个取值划分出子数据和子标签\n",
    "            child_y = y[X[:,node_feature]==val]\n",
    "            #child_X = np.delete(child_X, node_feature, 1)        #注：这里一开始犯了一个错误，删除特征不可以这样做，会导致删除特征后面\n",
    "                                                                  #的特征位置-1，索引的时候就会出现错误，因此修改为添加了特征集\n",
    "            new_feature = feature_set.copy()\n",
    "            new_feature.remove(node_feature)\n",
    "            new_depth = depth + 1\n",
    "            child_tree[val] = self.build_tree(child_X,child_y,new_feature,new_depth)    #递归生成决策树,\n",
    "                                                                                        #子树不需要这个特征来进行划分了，需要删掉\n",
    "        return TreeNode(node=node_feature, edge=feature_values, child_node=child_tree)\n",
    "    \n",
    "    def search_tree(self, x, tree):\n",
    "        \"\"\"\n",
    "        遍历搜索树：\n",
    "        \n",
    "        x：一维数组，测试数据\n",
    "        tree: 给定的树类，用于搜索到叶节点来给测试数据分类\n",
    "        \"\"\"\n",
    "        #先判断这个结点是否为叶结点，搜索到叶结点时，返回其储存的类别\n",
    "        if tree.leaf_node != None:\n",
    "            return tree.leaf_node \n",
    "        \n",
    "        #搜索到内部节点时，递归搜索子树\n",
    "        for val, next_tree in tree.child_node.items():    \n",
    "            if x[tree.node] == val:                       \n",
    "                return self.search_tree(x, next_tree)\n",
    "            \n",
    "            \n",
    "    def fit(self, X,y):\n",
    "        \"\"\"\n",
    "        训练模型就是生成一棵决策树的过程\n",
    "\n",
    "        X：二维数组，训练数据集\n",
    "        y：一维数组，标签\n",
    "        \"\"\"\n",
    "\n",
    "        self.root = self.build_tree(X,y,set(range(X.shape[1])))             #将生成的树保存在root变量中\n",
    "\n",
    "\n",
    "    def predict(self,x):\n",
    "        \"\"\"\n",
    "        给测试数据分类就是搜索树的过程\n",
    "\n",
    "        x：一维数组，测试数据\n",
    "        \"\"\"\n",
    "        return self.search_tree(x,self.root)\n"
   ]
  },
  {
   "cell_type": "code",
   "execution_count": 4,
   "metadata": {},
   "outputs": [],
   "source": [
    "import pandas as pd"
   ]
  },
  {
   "cell_type": "code",
   "execution_count": 5,
   "metadata": {},
   "outputs": [
    {
     "data": {
      "text/html": [
       "<div>\n",
       "<style scoped>\n",
       "    .dataframe tbody tr th:only-of-type {\n",
       "        vertical-align: middle;\n",
       "    }\n",
       "\n",
       "    .dataframe tbody tr th {\n",
       "        vertical-align: top;\n",
       "    }\n",
       "\n",
       "    .dataframe thead th {\n",
       "        text-align: right;\n",
       "    }\n",
       "</style>\n",
       "<table border=\"1\" class=\"dataframe\">\n",
       "  <thead>\n",
       "    <tr style=\"text-align: right;\">\n",
       "      <th></th>\n",
       "      <th>年龄</th>\n",
       "      <th>有工作</th>\n",
       "      <th>有自己的房子</th>\n",
       "      <th>信贷情况</th>\n",
       "      <th>类别</th>\n",
       "    </tr>\n",
       "  </thead>\n",
       "  <tbody>\n",
       "    <tr>\n",
       "      <th>0</th>\n",
       "      <td>青年</td>\n",
       "      <td>否</td>\n",
       "      <td>否</td>\n",
       "      <td>一般</td>\n",
       "      <td>否</td>\n",
       "    </tr>\n",
       "    <tr>\n",
       "      <th>1</th>\n",
       "      <td>青年</td>\n",
       "      <td>否</td>\n",
       "      <td>否</td>\n",
       "      <td>好</td>\n",
       "      <td>否</td>\n",
       "    </tr>\n",
       "    <tr>\n",
       "      <th>2</th>\n",
       "      <td>青年</td>\n",
       "      <td>是</td>\n",
       "      <td>否</td>\n",
       "      <td>好</td>\n",
       "      <td>是</td>\n",
       "    </tr>\n",
       "    <tr>\n",
       "      <th>3</th>\n",
       "      <td>青年</td>\n",
       "      <td>是</td>\n",
       "      <td>是</td>\n",
       "      <td>一般</td>\n",
       "      <td>是</td>\n",
       "    </tr>\n",
       "    <tr>\n",
       "      <th>4</th>\n",
       "      <td>青年</td>\n",
       "      <td>否</td>\n",
       "      <td>否</td>\n",
       "      <td>一般</td>\n",
       "      <td>否</td>\n",
       "    </tr>\n",
       "    <tr>\n",
       "      <th>5</th>\n",
       "      <td>中年</td>\n",
       "      <td>否</td>\n",
       "      <td>否</td>\n",
       "      <td>一般</td>\n",
       "      <td>否</td>\n",
       "    </tr>\n",
       "    <tr>\n",
       "      <th>6</th>\n",
       "      <td>中年</td>\n",
       "      <td>否</td>\n",
       "      <td>否</td>\n",
       "      <td>好</td>\n",
       "      <td>否</td>\n",
       "    </tr>\n",
       "    <tr>\n",
       "      <th>7</th>\n",
       "      <td>中年</td>\n",
       "      <td>是</td>\n",
       "      <td>是</td>\n",
       "      <td>好</td>\n",
       "      <td>是</td>\n",
       "    </tr>\n",
       "    <tr>\n",
       "      <th>8</th>\n",
       "      <td>中年</td>\n",
       "      <td>否</td>\n",
       "      <td>是</td>\n",
       "      <td>非常好</td>\n",
       "      <td>是</td>\n",
       "    </tr>\n",
       "    <tr>\n",
       "      <th>9</th>\n",
       "      <td>中年</td>\n",
       "      <td>否</td>\n",
       "      <td>是</td>\n",
       "      <td>非常好</td>\n",
       "      <td>是</td>\n",
       "    </tr>\n",
       "    <tr>\n",
       "      <th>10</th>\n",
       "      <td>老年</td>\n",
       "      <td>否</td>\n",
       "      <td>是</td>\n",
       "      <td>非常好</td>\n",
       "      <td>是</td>\n",
       "    </tr>\n",
       "    <tr>\n",
       "      <th>11</th>\n",
       "      <td>老年</td>\n",
       "      <td>否</td>\n",
       "      <td>是</td>\n",
       "      <td>好</td>\n",
       "      <td>是</td>\n",
       "    </tr>\n",
       "    <tr>\n",
       "      <th>12</th>\n",
       "      <td>老年</td>\n",
       "      <td>是</td>\n",
       "      <td>否</td>\n",
       "      <td>好</td>\n",
       "      <td>是</td>\n",
       "    </tr>\n",
       "    <tr>\n",
       "      <th>13</th>\n",
       "      <td>老年</td>\n",
       "      <td>是</td>\n",
       "      <td>否</td>\n",
       "      <td>非常好</td>\n",
       "      <td>是</td>\n",
       "    </tr>\n",
       "    <tr>\n",
       "      <th>14</th>\n",
       "      <td>老年</td>\n",
       "      <td>否</td>\n",
       "      <td>否</td>\n",
       "      <td>一般</td>\n",
       "      <td>否</td>\n",
       "    </tr>\n",
       "  </tbody>\n",
       "</table>\n",
       "</div>"
      ],
      "text/plain": [
       "    年龄 有工作 有自己的房子 信贷情况 类别\n",
       "0   青年   否      否   一般  否\n",
       "1   青年   否      否    好  否\n",
       "2   青年   是      否    好  是\n",
       "3   青年   是      是   一般  是\n",
       "4   青年   否      否   一般  否\n",
       "5   中年   否      否   一般  否\n",
       "6   中年   否      否    好  否\n",
       "7   中年   是      是    好  是\n",
       "8   中年   否      是  非常好  是\n",
       "9   中年   否      是  非常好  是\n",
       "10  老年   否      是  非常好  是\n",
       "11  老年   否      是    好  是\n",
       "12  老年   是      否    好  是\n",
       "13  老年   是      否  非常好  是\n",
       "14  老年   否      否   一般  否"
      ]
     },
     "execution_count": 5,
     "metadata": {},
     "output_type": "execute_result"
    }
   ],
   "source": [
    "\n",
    "datasets = [['青年', '否', '否', '一般', '否'],\n",
    "           ['青年', '否', '否', '好', '否'],\n",
    "           ['青年', '是', '否', '好', '是'],\n",
    "           ['青年', '是', '是', '一般', '是'],\n",
    "           ['青年', '否', '否', '一般', '否'],\n",
    "           ['中年', '否', '否', '一般', '否'],\n",
    "           ['中年', '否', '否', '好', '否'],\n",
    "           ['中年', '是', '是', '好', '是'],\n",
    "           ['中年', '否', '是', '非常好', '是'],\n",
    "           ['中年', '否', '是', '非常好', '是'],\n",
    "           ['老年', '否', '是', '非常好', '是'],\n",
    "           ['老年', '否', '是', '好', '是'],\n",
    "           ['老年', '是', '否', '好', '是'],\n",
    "           ['老年', '是', '否', '非常好', '是'],\n",
    "           ['老年', '否', '否', '一般', '否'],\n",
    "           ]\n",
    "labels = [u'年龄', u'有工作', u'有自己的房子', u'信贷情况', u'类别']\n",
    "train_data = pd.DataFrame(datasets, columns=labels)\n",
    "train_data"
   ]
  },
  {
   "cell_type": "code",
   "execution_count": 6,
   "metadata": {},
   "outputs": [],
   "source": [
    "train_data = train_data[['有自己的房子','信贷情况','年龄','有工作','类别']]"
   ]
  },
  {
   "cell_type": "code",
   "execution_count": 7,
   "metadata": {},
   "outputs": [],
   "source": [
    "X = train_data.values[:,0:-1]\n",
    "y = train_data.values[:,-1]\n"
   ]
  },
  {
   "cell_type": "code",
   "execution_count": 8,
   "metadata": {},
   "outputs": [
    {
     "name": "stdout",
     "output_type": "stream",
     "text": [
      "0.4199730940219749\n",
      "0.36298956253708536\n",
      "0.08300749985576883\n",
      "0.32365019815155627\n",
      "0.47385138961004514\n",
      "0.2516291673878229\n",
      "0.9182958340544896\n"
     ]
    }
   ],
   "source": [
    "clf = DecisionTreeClassifier()\n",
    "clf.fit(X,y)"
   ]
  },
  {
   "cell_type": "code",
   "execution_count": 9,
   "metadata": {},
   "outputs": [
    {
     "data": {
      "text/plain": [
       "3"
      ]
     },
     "execution_count": 9,
     "metadata": {},
     "output_type": "execute_result"
    }
   ],
   "source": [
    "clf.root.child_node['否'].node"
   ]
  },
  {
   "cell_type": "code",
   "execution_count": 10,
   "metadata": {},
   "outputs": [
    {
     "data": {
      "text/plain": [
       "0"
      ]
     },
     "execution_count": 10,
     "metadata": {},
     "output_type": "execute_result"
    }
   ],
   "source": [
    "clf.root.node"
   ]
  },
  {
   "cell_type": "code",
   "execution_count": 251,
   "metadata": {},
   "outputs": [],
   "source": [
    "a=set(range(X.shape[1]))"
   ]
  },
  {
   "cell_type": "code",
   "execution_count": 13,
   "metadata": {},
   "outputs": [],
   "source": [
    "a = np.arange(9).reshape([3,3])"
   ]
  },
  {
   "cell_type": "code",
   "execution_count": 14,
   "metadata": {},
   "outputs": [
    {
     "data": {
      "text/plain": [
       "array([[0, 1, 2],\n",
       "       [3, 4, 5],\n",
       "       [6, 7, 8]])"
      ]
     },
     "execution_count": 14,
     "metadata": {},
     "output_type": "execute_result"
    }
   ],
   "source": [
    "a"
   ]
  },
  {
   "cell_type": "code",
   "execution_count": 16,
   "metadata": {},
   "outputs": [
    {
     "data": {
      "text/plain": [
       "(3, 2)"
      ]
     },
     "execution_count": 16,
     "metadata": {},
     "output_type": "execute_result"
    }
   ],
   "source": [
    "np.delete(a, 2, 1).shape"
   ]
  },
  {
   "cell_type": "code",
   "execution_count": 188,
   "metadata": {},
   "outputs": [],
   "source": [
    "dt = DecisionTreeScratch(feature_name=labels)\n",
    "dt.fit(X,y)"
   ]
  },
  {
   "cell_type": "code",
   "execution_count": 190,
   "metadata": {},
   "outputs": [
    {
     "data": {
      "text/plain": [
       "2"
      ]
     },
     "execution_count": 190,
     "metadata": {},
     "output_type": "execute_result"
    }
   ],
   "source": [
    "dt._root._child['否']._feature_idx"
   ]
  },
  {
   "cell_type": "code",
   "execution_count": null,
   "metadata": {},
   "outputs": [],
   "source": []
  }
 ],
 "metadata": {
  "kernelspec": {
   "display_name": "Python 3",
   "language": "python",
   "name": "python3"
  },
  "language_info": {
   "codemirror_mode": {
    "name": "ipython",
    "version": 3
   },
   "file_extension": ".py",
   "mimetype": "text/x-python",
   "name": "python",
   "nbconvert_exporter": "python",
   "pygments_lexer": "ipython3",
   "version": "3.7.6"
  }
 },
 "nbformat": 4,
 "nbformat_minor": 4
}
