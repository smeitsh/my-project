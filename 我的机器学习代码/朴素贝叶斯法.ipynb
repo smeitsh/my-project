{
 "cells": [
  {
   "cell_type": "markdown",
   "metadata": {},
   "source": [
    "# Naive Bayes"
   ]
  },
  {
   "cell_type": "markdown",
   "metadata": {},
   "source": [
    "朴素贝叶斯法是基于贝叶斯定理与特征条件独立假设的分类方法，选择后验概率最大的类别作为预测类别。\n",
    "\n",
    "## 算法：\n",
    "- (1)使用极大似然估计先验概率与类条件概率，并做拉普拉斯平滑处理：\n",
    "$$P_{\\alpha}(Y=c_k)=\\frac{\\sum_{i=1}^{N}I(y_i=c_k)+\\alpha}{N+K\\alpha}$$\n",
    "其中$N$为总样本数，$\\alpha$为拉普拉斯平滑的参数，$K$为类数。\n",
    "$$P_\\alpha(X^{(j)}=a_{jl}|Y=c_k)=\\frac{\\sum_{i=1}^{N}I(x_i^{(j)}=a_{jl},j_i=c_k)+\\alpha}{\\sum_{i=1}^{N}I(y_i=c_k)+S_j\\alpha}$$\n",
    "为第j个特征的条件概率，其中$S_j$为第j个特征可能取值的个数。\n",
    "\n",
    "\n",
    "- (2)使用Bayes公式计算后验概率:\n",
    "$$P(Y=c_k)\\prod_{j=1}^nP(X^{(j)}=x^{(j)}|Y=c_k)$$\n",
    "\n",
    "\n",
    "- (3)后验概率最大的类别作为预测类别\n",
    "\n",
    "**注：** 本算法为离散数据的Bayes算法，若特征数据为连续数值型，可以假设数据服从高斯分布，使用数据估计该特征的均值与方差（极大似然估计）或者将数据离散化处理。"
   ]
  },
  {
   "cell_type": "code",
   "execution_count": 1,
   "metadata": {},
   "outputs": [],
   "source": [
    "import numpy as np"
   ]
  },
  {
   "cell_type": "code",
   "execution_count": 23,
   "metadata": {},
   "outputs": [],
   "source": [
    "class NaiveBayes():\n",
    "\n",
    "    def __init__(self, alpha=1):\n",
    "        self.alpha = alpha\n",
    "        self.class_prior_ = None #类的先验概率\n",
    "        self.probabilities_ = None  #类的条件概率\n",
    "        self.post_proba_ = None  #后验概率\n",
    "        \n",
    "    def get_class_prior(self, y):\n",
    "        '''\n",
    "        输入为训练集的标签,为一维数组，得到类的先验概率密度，以字典{类：先验概率}形式储存数据\n",
    "        e.g. y = np.array([\"类1\",\"类1\",\"类2\",\"类2\"])\n",
    "        get_class_prior(y) = {'类1': 0.5, '类2': 0.5}\n",
    "        '''\n",
    "        labels = list(y)\n",
    "        class_prior = {}\n",
    "        for i in set(y):\n",
    "            class_prior[i] = (labels.count(i) + self.alpha)/(len(labels) + len(set(y)) * self.alpha)# 用频率估计概率\n",
    "        return class_prior\n",
    "        \n",
    "    def get_cond_proba(self, X, y):\n",
    "        '''\n",
    "        输入参数X为二维数组，标签y为一维数组，计算类的条件概率。以嵌套字典形式存储数据\n",
    "        e.g.\n",
    "        a = np.array([[1,2,2],[2,3,2],[1,3,1],[2,2,2]]),b = np.array([\"类1\",\"类1\",\"类2\",\"类2\"])\n",
    "        get_cond_proba(a,b):{'类1': {0: {1: 0.5, 2: 0.5}, 1: {2: 0.5, 3: 0.5}, 2: {2: 1.0}},\n",
    "                             '类2': {0: {1: 0.5, 2: 0.5}, 1: {2: 0.5, 3: 0.5}, 2: {1: 0.5, 2: 0.5}}}\n",
    "        最外层为类标签，第2层为第i个特征，第3层为第i个特征的第j个取值，最后的值为这个取值的联合概率。\n",
    "        \n",
    "        '''\n",
    "        probabilities = {}\n",
    "        for i in set(y):\n",
    "            feature_dict = {}\n",
    "            X_class = X[y == i]  #取第i个类的那些数据\n",
    "            for j, values in enumerate(X_class.T):#这里应该要取转置，用来得到某一类别的某一特征上的所有数据\n",
    "                values_dict = {}\n",
    "                for k in set(values):# 计算某一特征上的所有取值的概率（用频率估计概率）\n",
    "                    values_dict[k] = (list(values).count(k) + self.alpha)/(len(values) + len(set(values)) * self.alpha)\n",
    "                feature_dict[j] = values_dict\n",
    "            probabilities[i]=feature_dict\n",
    "        return probabilities\n",
    "    \n",
    "    def compute_proba(self,X_test):\n",
    "        '''\n",
    "        计算给定测试数据的后验概率\n",
    "        e.g. compute_proba([2,3,2])\n",
    "            输出：{'类1': 0.125, '类2': 0.0625}\n",
    "        '''\n",
    "        post_proba = {}\n",
    "        sum_prob = 0\n",
    "        for i in self.class_prior_.keys():#先对类别标签进行循环\n",
    "            proba = self.class_prior_[i] #先验概率\n",
    "            for j in self.probabilities_[i].keys():\n",
    "                proba *= self.probabilities_[i][j].get(X_test[j],0)#先验概率*X_test第一个特征对应取值的概率*……*第n个特征的对应取值概率\n",
    "            post_proba[i] = proba\n",
    "            sum_prob += proba\n",
    "        for i in post_proba.keys():# 计算概率\n",
    "            post_proba[i] = post_proba[i]/sum_prob\n",
    "        return post_proba\n",
    "    \n",
    "    def fit(self, X, y):\n",
    "        '''\n",
    "        X为二维特征矩阵，y为一维标签向量\n",
    "        '''\n",
    "        self.class_prior_ = self.get_class_prior(y)\n",
    "        self.probabilities_ = self.get_cond_proba(X,y)\n",
    "        \n",
    "        \n",
    "    def predict(self,X_test):\n",
    "        '''\n",
    "        输入为一维特征向量，输出预测标签\n",
    "        '''\n",
    "        self.post_proba_ = self.compute_proba(X_test)\n",
    "        return max(self.post_proba_, key=self.post_proba_.get)#选取后验概率最大的类别\n"
   ]
  },
  {
   "cell_type": "markdown",
   "metadata": {},
   "source": [
    "## 测试"
   ]
  },
  {
   "cell_type": "code",
   "execution_count": 24,
   "metadata": {},
   "outputs": [],
   "source": [
    "a = np.array([[1,2,2],[2,3,2],[1,3,1],[2,2,2]])\n",
    "b = np.array([\"类1\",\"类1\",\"类2\",\"类2\"])"
   ]
  },
  {
   "cell_type": "code",
   "execution_count": 25,
   "metadata": {},
   "outputs": [],
   "source": [
    "clf=NaiveBayes()"
   ]
  },
  {
   "cell_type": "code",
   "execution_count": 26,
   "metadata": {},
   "outputs": [],
   "source": [
    "clf.fit(a,b)"
   ]
  },
  {
   "cell_type": "code",
   "execution_count": 52,
   "metadata": {},
   "outputs": [
    {
     "data": {
      "text/plain": [
       "'类1'"
      ]
     },
     "execution_count": 52,
     "metadata": {},
     "output_type": "execute_result"
    }
   ],
   "source": [
    "clf.predict([2,3,2])"
   ]
  },
  {
   "cell_type": "code",
   "execution_count": 53,
   "metadata": {},
   "outputs": [
    {
     "data": {
      "text/plain": [
       "{'类1': 0.6666666666666666, '类2': 0.3333333333333333}"
      ]
     },
     "execution_count": 53,
     "metadata": {},
     "output_type": "execute_result"
    }
   ],
   "source": [
    "clf.post_proba_"
   ]
  },
  {
   "cell_type": "code",
   "execution_count": 39,
   "metadata": {},
   "outputs": [],
   "source": [
    "from sklearn.naive_bayes import CategoricalNB"
   ]
  },
  {
   "cell_type": "code",
   "execution_count": 1,
   "metadata": {},
   "outputs": [
    {
     "ename": "NameError",
     "evalue": "name 'CategoricalNB' is not defined",
     "output_type": "error",
     "traceback": [
      "\u001b[1;31m---------------------------------------------------------------------------\u001b[0m",
      "\u001b[1;31mNameError\u001b[0m                                 Traceback (most recent call last)",
      "\u001b[1;32m<ipython-input-1-1b9e4729f2f9>\u001b[0m in \u001b[0;36m<module>\u001b[1;34m\u001b[0m\n\u001b[1;32m----> 1\u001b[1;33m \u001b[0mclf2\u001b[0m \u001b[1;33m=\u001b[0m \u001b[0mCategoricalNB\u001b[0m\u001b[1;33m(\u001b[0m\u001b[0malpha\u001b[0m\u001b[1;33m=\u001b[0m\u001b[1;36m2\u001b[0m\u001b[1;33m)\u001b[0m\u001b[1;33m\u001b[0m\u001b[1;33m\u001b[0m\u001b[0m\n\u001b[0m\u001b[0;32m      2\u001b[0m \u001b[0mclf2\u001b[0m\u001b[1;33m.\u001b[0m\u001b[0mfit\u001b[0m\u001b[1;33m(\u001b[0m\u001b[0ma\u001b[0m\u001b[1;33m,\u001b[0m\u001b[0mb\u001b[0m\u001b[1;33m)\u001b[0m\u001b[1;33m\u001b[0m\u001b[1;33m\u001b[0m\u001b[0m\n",
      "\u001b[1;31mNameError\u001b[0m: name 'CategoricalNB' is not defined"
     ]
    }
   ],
   "source": [
    "clf2 = CategoricalNB()\n",
    "clf2.fit(a,b)"
   ]
  },
  {
   "cell_type": "code",
   "execution_count": 48,
   "metadata": {},
   "outputs": [
    {
     "data": {
      "text/plain": [
       "array(['类1'], dtype='<U2')"
      ]
     },
     "execution_count": 48,
     "metadata": {},
     "output_type": "execute_result"
    }
   ],
   "source": [
    "clf2.predict(np.array([[2,2,2]]))"
   ]
  },
  {
   "cell_type": "code",
   "execution_count": 49,
   "metadata": {},
   "outputs": [
    {
     "data": {
      "text/plain": [
       "array([[0.6, 0.4]])"
      ]
     },
     "execution_count": 49,
     "metadata": {},
     "output_type": "execute_result"
    }
   ],
   "source": [
    "clf2.predict_proba(np.array([[2,2,2]]))"
   ]
  },
  {
   "cell_type": "markdown",
   "metadata": {},
   "source": [
    "## 垃圾邮件分类实战\n"
   ]
  },
  {
   "cell_type": "code",
   "execution_count": null,
   "metadata": {},
   "outputs": [],
   "source": []
  }
 ],
 "metadata": {
  "kernelspec": {
   "display_name": "Python 3",
   "language": "python",
   "name": "python3"
  },
  "language_info": {
   "codemirror_mode": {
    "name": "ipython",
    "version": 3
   },
   "file_extension": ".py",
   "mimetype": "text/x-python",
   "name": "python",
   "nbconvert_exporter": "python",
   "pygments_lexer": "ipython3",
   "version": "3.7.6"
  }
 },
 "nbformat": 4,
 "nbformat_minor": 4
}
